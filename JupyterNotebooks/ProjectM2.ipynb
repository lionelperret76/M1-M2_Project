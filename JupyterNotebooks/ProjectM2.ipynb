{
 "cells": [
  {
   "cell_type": "markdown",
   "metadata": {},
   "source": [
    "Module 2, Statistical Inference for Data Science, CAS Applied Data Science, 2020-10-16, Lionel Perret"
   ]
  },
  {
   "cell_type": "markdown",
   "metadata": {},
   "source": [
    "# Project work Module 2 (This code does not run on Colab)\n",
    "\n",
    "This is my project work for Module 2. Plots, numbers and tables for the poster is produced with this notebook.\n",
    "\n",
    "The datasets used are:\n",
    "\n",
    "**1. Avalanche dataset - 13918 recorded avalanched from the Davos area**\n",
    "\n",
    "In my module 1 project, I used this original dataset (https://www.envidat.ch/#/metadata/snow-avalanche-data-davos) and I   pre-process it, so that it can be used for this module 2 project. The pre-processed avalanche data set used for this module 2-notebook can be found under:\n",
    "   \n",
    "https://raw.githubusercontent.com/lionelperret76/M1-M2_Project/main/Processed_DataSets/Avalanches.csv\n",
    "\n",
    "\n",
    "\n",
    "**2. Meteo data from the Weissfluhjoch**\n",
    "\n",
    "In my module 1 project, I used this original dataset (https://www.envidat.ch/#/metadata/10-16904-1) and I pre-process it, so that it can be used for this module 2 project. The pre-processed meteo data set used for this module 2-notebook can be found under:\n",
    "\n",
    "https://raw.githubusercontent.com/lionelperret76/M1-M2_Project/main/Processed_DataSets/Meteo.csv \n"
   ]
  },
  {
   "cell_type": "markdown",
   "metadata": {},
   "source": [
    "\n",
    "\n",
    "**Outline of the data analysis**\n",
    "\n",
    "1. Introduction (situation and goal)\n",
    "\n",
    "\n",
    "2. Description of the data set\n",
    "\n",
    "\n",
    "3. Conclusion\n",
    "\n",
    "\n",
    "4. Outlook and Open Questions for Module 3"
   ]
  },
  {
   "cell_type": "markdown",
   "metadata": {},
   "source": [
    "# 1. Introduction\n",
    "\n",
    "In my freetime I am very often in the moutains, especially in winter where I enjoy doing ski tours, outside of the regular ski slope. Avalanche danger and risk estimation is for me of great interest, this is why I have decided to do my module 1 and module 2 project in this domain.\n",
    "\n",
    "**Module 2 project objectives**:\n",
    "\n",
    "1. Analysis of number of avalanches per day with regards to avalanche danger levels. Here the aim is to investigate and confirm if the number of avalanches per day are increasing with the avalanche danger levels\n",
    "\n",
    "2. Investigate the influence of snow fall and other meteorological parameters on the number of avalanches per day. To do that the binary variable Critical Fresh Snow (Refer to Module 1 conceptual data report for more information) will be used to split the data in 2 classes, so that the obtained distributions can be analysed/compared\n",
    " \n",
    "\n",
    "3. Check the possibility to use the meterological parameters from the Weissfluhjoch for my module 3 project: **Prediction of the avalanche danger levels with meteorological parameters**\n",
    "\n",
    "\n",
    "\n",
    "**Overall Concept - Data Flow of the Project**\n",
    "\n",
    "<img src=\"../Printscreen/Concept.jpg\" alt=\"Drawing\" style=\"width: 1000px;\">\n"
   ]
  },
  {
   "cell_type": "markdown",
   "metadata": {},
   "source": [
    "**Definition of significant**\n",
    "\n",
    "I consider p-values below or equal to 0.01 as unlikely enough to reject the H0 hypothesis "
   ]
  },
  {
   "cell_type": "markdown",
   "metadata": {},
   "source": [
    "# 2. Description of the datasets"
   ]
  },
  {
   "cell_type": "markdown",
   "metadata": {},
   "source": [
    "**Import the modules needed**"
   ]
  },
  {
   "cell_type": "code",
   "execution_count": 1,
   "metadata": {},
   "outputs": [],
   "source": [
    "import pandas as pd\n",
    "import numpy as np\n",
    "pd.options.display.float_format = '{:,.2f}'.format\n",
    "import matplotlib.pyplot as plt\n",
    "from scipy import stats"
   ]
  },
  {
   "cell_type": "markdown",
   "metadata": {},
   "source": [
    "**Import the pre-processed Davos avalanches dataset**\n",
    "\n",
    "(Refer to Module 1 Report for more information on how this csv file was created)"
   ]
  },
  {
   "cell_type": "code",
   "execution_count": 2,
   "metadata": {
    "scrolled": true
   },
   "outputs": [],
   "source": [
    "df_avalanche = pd.read_csv('../Processed_DataSets/Avalanches.csv')\n",
    "df_avalanche['Date'] = pd.to_datetime(df_avalanche['Date'])\n",
    "df_avalanche['Avalanche_danger_level'] = df_avalanche['Avalanche_danger_level'].astype(int)"
   ]
  },
  {
   "cell_type": "markdown",
   "metadata": {},
   "source": [
    "**Preliminary code to prepare the data**"
   ]
  },
  {
   "cell_type": "code",
   "execution_count": 3,
   "metadata": {
    "scrolled": false
   },
   "outputs": [
    {
     "data": {
      "text/html": [
       "<div>\n",
       "<style scoped>\n",
       "    .dataframe tbody tr th:only-of-type {\n",
       "        vertical-align: middle;\n",
       "    }\n",
       "\n",
       "    .dataframe tbody tr th {\n",
       "        vertical-align: top;\n",
       "    }\n",
       "\n",
       "    .dataframe thead th {\n",
       "        text-align: right;\n",
       "    }\n",
       "</style>\n",
       "<table border=\"1\" class=\"dataframe\">\n",
       "  <thead>\n",
       "    <tr style=\"text-align: right;\">\n",
       "      <th></th>\n",
       "      <th></th>\n",
       "      <th></th>\n",
       "      <th></th>\n",
       "      <th>Num_Natural</th>\n",
       "      <th>Num_Human</th>\n",
       "    </tr>\n",
       "    <tr>\n",
       "      <th>Date</th>\n",
       "      <th>Avalanche_danger_level</th>\n",
       "      <th>Snow_type</th>\n",
       "      <th>Trigger_type</th>\n",
       "      <th></th>\n",
       "      <th></th>\n",
       "    </tr>\n",
       "  </thead>\n",
       "  <tbody>\n",
       "    <tr>\n",
       "      <th rowspan=\"2\" valign=\"top\">1998-12-07</th>\n",
       "      <th rowspan=\"2\" valign=\"top\">3</th>\n",
       "      <th rowspan=\"2\" valign=\"top\">dry</th>\n",
       "      <th>HUMAN</th>\n",
       "      <td>0</td>\n",
       "      <td>1</td>\n",
       "    </tr>\n",
       "    <tr>\n",
       "      <th>NATURAL</th>\n",
       "      <td>6</td>\n",
       "      <td>0</td>\n",
       "    </tr>\n",
       "    <tr>\n",
       "      <th rowspan=\"2\" valign=\"top\">1998-12-08</th>\n",
       "      <th rowspan=\"2\" valign=\"top\">3</th>\n",
       "      <th>dry</th>\n",
       "      <th>HUMAN</th>\n",
       "      <td>0</td>\n",
       "      <td>14</td>\n",
       "    </tr>\n",
       "    <tr>\n",
       "      <th>unknown</th>\n",
       "      <th>HUMAN</th>\n",
       "      <td>0</td>\n",
       "      <td>2</td>\n",
       "    </tr>\n",
       "    <tr>\n",
       "      <th>1998-12-10</th>\n",
       "      <th>3</th>\n",
       "      <th>dry</th>\n",
       "      <th>NATURAL</th>\n",
       "      <td>1</td>\n",
       "      <td>0</td>\n",
       "    </tr>\n",
       "    <tr>\n",
       "      <th>1998-12-11</th>\n",
       "      <th>3</th>\n",
       "      <th>dry</th>\n",
       "      <th>NATURAL</th>\n",
       "      <td>2</td>\n",
       "      <td>0</td>\n",
       "    </tr>\n",
       "    <tr>\n",
       "      <th>1998-12-12</th>\n",
       "      <th>3</th>\n",
       "      <th>dry</th>\n",
       "      <th>HUMAN</th>\n",
       "      <td>0</td>\n",
       "      <td>1</td>\n",
       "    </tr>\n",
       "    <tr>\n",
       "      <th>1998-12-13</th>\n",
       "      <th>3</th>\n",
       "      <th>wet</th>\n",
       "      <th>NATURAL</th>\n",
       "      <td>7</td>\n",
       "      <td>0</td>\n",
       "    </tr>\n",
       "    <tr>\n",
       "      <th>1998-12-14</th>\n",
       "      <th>3</th>\n",
       "      <th>dry</th>\n",
       "      <th>HUMAN</th>\n",
       "      <td>0</td>\n",
       "      <td>4</td>\n",
       "    </tr>\n",
       "  </tbody>\n",
       "</table>\n",
       "</div>"
      ],
      "text/plain": [
       "                                                          Num_Natural  \\\n",
       "Date       Avalanche_danger_level Snow_type Trigger_type                \n",
       "1998-12-07 3                      dry       HUMAN                   0   \n",
       "                                            NATURAL                 6   \n",
       "1998-12-08 3                      dry       HUMAN                   0   \n",
       "                                  unknown   HUMAN                   0   \n",
       "1998-12-10 3                      dry       NATURAL                 1   \n",
       "1998-12-11 3                      dry       NATURAL                 2   \n",
       "1998-12-12 3                      dry       HUMAN                   0   \n",
       "1998-12-13 3                      wet       NATURAL                 7   \n",
       "1998-12-14 3                      dry       HUMAN                   0   \n",
       "\n",
       "                                                          Num_Human  \n",
       "Date       Avalanche_danger_level Snow_type Trigger_type             \n",
       "1998-12-07 3                      dry       HUMAN                 1  \n",
       "                                            NATURAL               0  \n",
       "1998-12-08 3                      dry       HUMAN                14  \n",
       "                                  unknown   HUMAN                 2  \n",
       "1998-12-10 3                      dry       NATURAL               0  \n",
       "1998-12-11 3                      dry       NATURAL               0  \n",
       "1998-12-12 3                      dry       HUMAN                 1  \n",
       "1998-12-13 3                      wet       NATURAL               0  \n",
       "1998-12-14 3                      dry       HUMAN                 4  "
      ]
     },
     "execution_count": 3,
     "metadata": {},
     "output_type": "execute_result"
    }
   ],
   "source": [
    "# Group the dataframe avalanche in another df, in order to have all information available for the plot\n",
    "df = df_avalanche.groupby(['Date','Avalanche_danger_level',\n",
    "                                     'Snow_type', 'Trigger_type',]).agg({'Num_Natural': 'sum','Num_Human':'sum'})\n",
    "df.head(9)"
   ]
  },
  {
   "cell_type": "markdown",
   "metadata": {},
   "source": [
    "**Get some information about the total number of days with recorded avalanche per danger levels**"
   ]
  },
  {
   "cell_type": "markdown",
   "metadata": {},
   "source": [
    "**Print the number of days with \"dry\" avalanches recorded** (Definition of \"dry\" avalanches is given in Module 1 Project report)"
   ]
  },
  {
   "cell_type": "code",
   "execution_count": 4,
   "metadata": {
    "scrolled": false
   },
   "outputs": [
    {
     "name": "stdout",
     "output_type": "stream",
     "text": [
      "Total number of days with \"dry\" avalanches recorded:        1457\n",
      "Number of days with risk \"1\" :                              14\n",
      "Number of days with risk \"2\" :                              334\n",
      "Number of days with risk \"3\" :                              941\n",
      "Number of days with risk \"4\" :                              157\n",
      "Number of days with risk \"5\" :                              11\n"
     ]
    }
   ],
   "source": [
    "NumDays5 = df.xs((5, 'dry'), level=('Avalanche_danger_level', 'Snow_type')).index.size\n",
    "NumDays4 = df.xs((4, 'dry'), level=('Avalanche_danger_level', 'Snow_type')).index.size\n",
    "NumDays3 = df.xs((3, 'dry'), level=('Avalanche_danger_level', 'Snow_type')).index.size\n",
    "NumDays2 = df.xs((2, 'dry'), level=('Avalanche_danger_level', 'Snow_type')).index.size\n",
    "NumDays1 = df.xs((1, 'dry'), level=('Avalanche_danger_level', 'Snow_type')).index.size\n",
    "NumDaysTotal = NumDays1 + NumDays2 + NumDays3 + NumDays4 + NumDays5\n",
    "\n",
    "print('Total number of days with \"dry\" avalanches recorded:        ' + str(NumDaysTotal))\n",
    "print('Number of days with risk \"1\" :                              ' + str(NumDays1))\n",
    "print('Number of days with risk \"2\" :                              ' + str(NumDays2))\n",
    "print('Number of days with risk \"3\" :                              ' + str(NumDays3))\n",
    "print('Number of days with risk \"4\" :                              ' + str(NumDays4))\n",
    "print('Number of days with risk \"5\" :                              ' + str(NumDays5))"
   ]
  },
  {
   "cell_type": "markdown",
   "metadata": {},
   "source": [
    "- There is only 14 days with danger level “1\", where “dry” avalanches have been recorded\n",
    "- There is only 11 days with danger level “5”, where “dry” avalanches have been recorded"
   ]
  },
  {
   "cell_type": "markdown",
   "metadata": {},
   "source": [
    "**Print the number of days with \"wet\" avalanches recorded** (Definition of \"wet\" avalanches is given in Module 1 Project report)"
   ]
  },
  {
   "cell_type": "code",
   "execution_count": 5,
   "metadata": {},
   "outputs": [
    {
     "name": "stdout",
     "output_type": "stream",
     "text": [
      "Total number of days with \"wet\" avalanches recorded:        390\n",
      "Number of days with risk \"1\" :                              10\n",
      "Number of days with risk \"2\" :                              151\n",
      "Number of days with risk \"3\" :                              168\n",
      "Number of days with risk \"4\" :                              61\n",
      "Number of days with risk \"5\" :                              0\n"
     ]
    }
   ],
   "source": [
    "NumDays5W = df.xs((5, 'wet'), level=('Avalanche_danger_level', 'Snow_type')).index.size\n",
    "NumDays4W = df.xs((4, 'wet'), level=('Avalanche_danger_level', 'Snow_type')).index.size\n",
    "NumDays3W = df.xs((3, 'wet'), level=('Avalanche_danger_level', 'Snow_type')).index.size\n",
    "NumDays2W = df.xs((2, 'wet'), level=('Avalanche_danger_level', 'Snow_type')).index.size\n",
    "NumDays1W = df.xs((1, 'wet'), level=('Avalanche_danger_level', 'Snow_type')).index.size\n",
    "NumDaysTotalW = NumDays1W + NumDays2W + NumDays3W + NumDays4W + NumDays5W\n",
    "\n",
    "print('Total number of days with \"wet\" avalanches recorded:        ' + str(NumDaysTotalW))\n",
    "print('Number of days with risk \"1\" :                              ' + str(NumDays1W))\n",
    "print('Number of days with risk \"2\" :                              ' + str(NumDays2W))\n",
    "print('Number of days with risk \"3\" :                              ' + str(NumDays3W))\n",
    "print('Number of days with risk \"4\" :                              ' + str(NumDays4W))\n",
    "print('Number of days with risk \"5\" :                              ' + str(NumDays5W))"
   ]
  },
  {
   "cell_type": "markdown",
   "metadata": {},
   "source": [
    "- There is only 10 days with danger level “1\", where “wet” avalanches have been recorded.\n",
    "- There is no days with danger level “5”, where “wet” avalanches have been recorded. As danger level \"5\" happens very rarely and is only when the infrastructures and lifes in the valleys are at risk. Level 5 happens only with hudge quantity of fressh snow, so it is normal that no \"wet\" snow are recorded during the days with danger level 5. \"wet\" snow avalanches happens more towards the second part of the winter and is due to the melting of the snowpack. \n",
    "\n",
    "**==>For this analysis, as there is only very little data for the danger levels “1” and “5”, those levels will not be considered**"
   ]
  },
  {
   "cell_type": "markdown",
   "metadata": {},
   "source": [
    "## Number of avalanches per day with regards to danger level"
   ]
  },
  {
   "cell_type": "code",
   "execution_count": 6,
   "metadata": {},
   "outputs": [],
   "source": [
    "# Prepare the plot, Calculate the different values for the \"dry\" avalanches with NATURAL triggered cause\n",
    "N2DN = df.xs((2, 'dry', 'NATURAL'), level=['Avalanche_danger_level', 'Snow_type', 'Trigger_type']).Num_Natural\n",
    "N3DN = df.xs((3, 'dry', 'NATURAL'), level=['Avalanche_danger_level', 'Snow_type', 'Trigger_type']).Num_Natural\n",
    "N4DN = df.xs((4, 'dry', 'NATURAL'), level=['Avalanche_danger_level', 'Snow_type', 'Trigger_type']).Num_Natural\n",
    "ValuesDN = [N2DN.mean(), N3DN.mean(), N4DN.mean()]      \n",
    "Y_errDN = [[0,0,0], [N2DN.std(), N3DN.std(), N4DN.std()]]\n",
    "\n",
    "# Prepare the plot, Calculate the different values for the \"dry avalanche\" with HUMAN triggered causes used for plotting\n",
    "N2DH = df.xs((2, 'dry', 'HUMAN'), level=['Avalanche_danger_level', 'Snow_type', 'Trigger_type']).Num_Human\n",
    "N3DH = df.xs((3, 'dry', 'HUMAN'), level=['Avalanche_danger_level', 'Snow_type', 'Trigger_type']).Num_Human\n",
    "N4DH = df.xs((4, 'dry', 'HUMAN'), level=['Avalanche_danger_level', 'Snow_type', 'Trigger_type']).Num_Human\n",
    "ValuesDH = [N2DH.mean(), N3DH.mean(), N4DH.mean()]         \n",
    "Y_errDH = [[0,0,0], [N2DH.std(), N3DH.std(), N4DH.std()]]\n",
    "\n",
    "# General settings for the plotting in this notebook\n",
    "Title_size = {'fontsize': 18, 'fontweight': 'demibold' }\n",
    "Legend_size = {'fontsize': 16}\n",
    "OffsetAxes = 10\n",
    "OffsetTitle = 15\n",
    "FigWidth = 6\n",
    "FigHeigth = 5"
   ]
  },
  {
   "cell_type": "markdown",
   "metadata": {},
   "source": [
    "**create the plot**"
   ]
  },
  {
   "cell_type": "code",
   "execution_count": 7,
   "metadata": {
    "scrolled": true
   },
   "outputs": [
    {
     "data": {
      "image/png": "[encoded data removed]",
      "text/plain": [
       "<Figure size 432x360 with 1 Axes>"
      ]
     },
     "metadata": {
      "needs_background": "light"
     },
     "output_type": "display_data"
    }
   ],
   "source": [
    "# Define the label\n",
    "labels = ['2', '3', '4']\n",
    "x = np.arange(len(labels))  # the label locations\n",
    "width = 0.35  # the width of the bars\n",
    "\n",
    "fig, ax = plt.subplots()\n",
    "ax.bar(x- width/2, ValuesDN, width, yerr = Y_errDN, color = 'deepskyblue', label = 'NATURAL - triggered')\n",
    "ax.bar(x+ width/2, ValuesDH, width, yerr = Y_errDH, color = 'coral', label = 'HUMAN - triggered')\n",
    "\n",
    "# Add some legend/Title\n",
    "ax.set_xlabel('Avalanche danger level', fontdict = Legend_size, labelpad = OffsetAxes)\n",
    "ax.set_ylabel('Number per day',fontdict = Legend_size, labelpad = OffsetAxes)\n",
    "ax.set_title('Number of \"dry\" avalanches per day',fontdict = Title_size, pad = OffsetTitle)\n",
    "ax.set_xticks(x)\n",
    "ax.set_xticklabels(labels)\n",
    "ax.legend(fontsize=14, loc = 'upper left')\n",
    "\n",
    "#Formatting the plot\n",
    "fig.tight_layout()\n",
    "fig.set_figwidth(FigWidth)\n",
    "fig.set_figheight(FigHeigth)\n",
    "\n",
    "#Saving the plot in an external file\n",
    "plt.savefig('../Plots/Num_dry_avalanches_per_danger_level.png')\n",
    "plt.show()"
   ]
  },
  {
   "cell_type": "markdown",
   "metadata": {},
   "source": [
    "In the above figure:\n",
    "- Number of HUMAN triggered avalanches per day slightly decreases with level 4 avalanche danger.\n",
    "\n",
    "\n",
    "- Number of NATURAL triggered avalanches per day increases with the danger level, **this is consistent with the definition of the european avalanche danger level, see picture below for an explaination of the European avalanche danger levels (more information and a definition of the levels are given in the conceptual design report)\n",
    "\n",
    "<img src=\"../Printscreen/Avalanche_danger_level.jpg\" alt=\"Drawing\" style=\"width: 400px;\">\n"
   ]
  },
  {
   "cell_type": "markdown",
   "metadata": {},
   "source": [
    "## Investigate the influence of snow fall and other meteorological parameters on the number of avalanches per day"
   ]
  },
  {
   "cell_type": "markdown",
   "metadata": {},
   "source": [
    "The second focus of this study is to check the influence of the following meteo parameters\n",
    "- Fresh new snow = Snow fall\n",
    "- Wind\n",
    "- Temperature\n",
    "on the number of avalanche per day.\n",
    "\n",
    "\n",
    "Avalanches with fresh snow are of \"dry\" type, so the other types will be removed from the analysis"
   ]
  },
  {
   "cell_type": "code",
   "execution_count": 8,
   "metadata": {
    "scrolled": true
   },
   "outputs": [
    {
     "data": {
      "text/html": [
       "<div>\n",
       "<style scoped>\n",
       "    .dataframe tbody tr th:only-of-type {\n",
       "        vertical-align: middle;\n",
       "    }\n",
       "\n",
       "    .dataframe tbody tr th {\n",
       "        vertical-align: top;\n",
       "    }\n",
       "\n",
       "    .dataframe thead th {\n",
       "        text-align: right;\n",
       "    }\n",
       "</style>\n",
       "<table border=\"1\" class=\"dataframe\">\n",
       "  <thead>\n",
       "    <tr style=\"text-align: right;\">\n",
       "      <th></th>\n",
       "      <th>Avalanche_danger_level</th>\n",
       "      <th>Num_Natural</th>\n",
       "      <th>Num_Human</th>\n",
       "      <th>Num_Unknown_t</th>\n",
       "      <th>Num_Tot</th>\n",
       "    </tr>\n",
       "    <tr>\n",
       "      <th>Date</th>\n",
       "      <th></th>\n",
       "      <th></th>\n",
       "      <th></th>\n",
       "      <th></th>\n",
       "      <th></th>\n",
       "    </tr>\n",
       "  </thead>\n",
       "  <tbody>\n",
       "    <tr>\n",
       "      <th>1998-12-07</th>\n",
       "      <td>3</td>\n",
       "      <td>6</td>\n",
       "      <td>1</td>\n",
       "      <td>0</td>\n",
       "      <td>7</td>\n",
       "    </tr>\n",
       "    <tr>\n",
       "      <th>1998-12-08</th>\n",
       "      <td>3</td>\n",
       "      <td>0</td>\n",
       "      <td>14</td>\n",
       "      <td>0</td>\n",
       "      <td>14</td>\n",
       "    </tr>\n",
       "    <tr>\n",
       "      <th>1998-12-10</th>\n",
       "      <td>3</td>\n",
       "      <td>1</td>\n",
       "      <td>0</td>\n",
       "      <td>0</td>\n",
       "      <td>1</td>\n",
       "    </tr>\n",
       "    <tr>\n",
       "      <th>1998-12-11</th>\n",
       "      <td>3</td>\n",
       "      <td>2</td>\n",
       "      <td>0</td>\n",
       "      <td>0</td>\n",
       "      <td>2</td>\n",
       "    </tr>\n",
       "    <tr>\n",
       "      <th>1998-12-12</th>\n",
       "      <td>3</td>\n",
       "      <td>0</td>\n",
       "      <td>1</td>\n",
       "      <td>0</td>\n",
       "      <td>1</td>\n",
       "    </tr>\n",
       "    <tr>\n",
       "      <th>...</th>\n",
       "      <td>...</td>\n",
       "      <td>...</td>\n",
       "      <td>...</td>\n",
       "      <td>...</td>\n",
       "      <td>...</td>\n",
       "    </tr>\n",
       "    <tr>\n",
       "      <th>2019-03-24</th>\n",
       "      <td>2</td>\n",
       "      <td>1</td>\n",
       "      <td>0</td>\n",
       "      <td>0</td>\n",
       "      <td>1</td>\n",
       "    </tr>\n",
       "    <tr>\n",
       "      <th>2019-04-04</th>\n",
       "      <td>4</td>\n",
       "      <td>105</td>\n",
       "      <td>1</td>\n",
       "      <td>2</td>\n",
       "      <td>108</td>\n",
       "    </tr>\n",
       "    <tr>\n",
       "      <th>2019-04-05</th>\n",
       "      <td>3</td>\n",
       "      <td>21</td>\n",
       "      <td>1</td>\n",
       "      <td>2</td>\n",
       "      <td>24</td>\n",
       "    </tr>\n",
       "    <tr>\n",
       "      <th>2019-04-15</th>\n",
       "      <td>3</td>\n",
       "      <td>5</td>\n",
       "      <td>1</td>\n",
       "      <td>0</td>\n",
       "      <td>6</td>\n",
       "    </tr>\n",
       "    <tr>\n",
       "      <th>2019-05-07</th>\n",
       "      <td>2</td>\n",
       "      <td>0</td>\n",
       "      <td>1</td>\n",
       "      <td>0</td>\n",
       "      <td>1</td>\n",
       "    </tr>\n",
       "  </tbody>\n",
       "</table>\n",
       "<p>844 rows × 5 columns</p>\n",
       "</div>"
      ],
      "text/plain": [
       "            Avalanche_danger_level  Num_Natural  Num_Human  Num_Unknown_t  \\\n",
       "Date                                                                        \n",
       "1998-12-07                       3            6          1              0   \n",
       "1998-12-08                       3            0         14              0   \n",
       "1998-12-10                       3            1          0              0   \n",
       "1998-12-11                       3            2          0              0   \n",
       "1998-12-12                       3            0          1              0   \n",
       "...                            ...          ...        ...            ...   \n",
       "2019-03-24                       2            1          0              0   \n",
       "2019-04-04                       4          105          1              2   \n",
       "2019-04-05                       3           21          1              2   \n",
       "2019-04-15                       3            5          1              0   \n",
       "2019-05-07                       2            0          1              0   \n",
       "\n",
       "            Num_Tot  \n",
       "Date                 \n",
       "1998-12-07        7  \n",
       "1998-12-08       14  \n",
       "1998-12-10        1  \n",
       "1998-12-11        2  \n",
       "1998-12-12        1  \n",
       "...             ...  \n",
       "2019-03-24        1  \n",
       "2019-04-04      108  \n",
       "2019-04-05       24  \n",
       "2019-04-15        6  \n",
       "2019-05-07        1  \n",
       "\n",
       "[844 rows x 5 columns]"
      ]
     },
     "execution_count": 8,
     "metadata": {},
     "output_type": "execute_result"
    }
   ],
   "source": [
    "# create a separate df for \"dry\" avalanches and filter out the \"EXPLOSIVE\" triggered avalanche\n",
    "# Explosive avalanches are caused on purpose to secure the ski slopes.\n",
    "df_dry = df_avalanche.set_index('Date').copy()\n",
    "df_dry = df_dry[df_dry['Snow_type'] == 'dry']\n",
    "df_dry = df_dry[df_dry['Trigger_type'] != 'EXPLOSIVE']\n",
    "\n",
    "# Resample the dataframe, to have one row per day and to count the total number of avalanche per days\n",
    "df_dry = df_dry.resample('D').agg({'Avalanche_danger_level': np.min, 'Num_Natural' : np.sum,\n",
    "                                   'Num_Human' : np.sum, 'Num_Unknown_t' : np.sum})\n",
    "# drop NaN values\n",
    "df_dry = df_dry.dropna()\n",
    "\n",
    "# Create a new column with total count value \n",
    "df_dry['Num_Tot'] = df_dry['Num_Natural'] + df_dry['Num_Human'] + df_dry['Num_Unknown_t']\n",
    "\n",
    "# filter out avalanche risk level \"1\" and \"5\", as there is only very litte data as explained above\n",
    "df_dry = df_dry[df_dry.Avalanche_danger_level != 5]\n",
    "df_dry = df_dry[df_dry.Avalanche_danger_level != 1]\n",
    "\n",
    "# Change the columns to int type\n",
    "df_dry = df_dry.astype('int64') \n",
    "df_dry"
   ]
  },
  {
   "cell_type": "markdown",
   "metadata": {},
   "source": [
    "**Import the pre-processed meteorological dataset**\n",
    "\n",
    "(Refer to Module 1 Report for more information on how this csv file was created)"
   ]
  },
  {
   "cell_type": "code",
   "execution_count": 9,
   "metadata": {
    "scrolled": false
   },
   "outputs": [],
   "source": [
    "# import Weissfluhjoch meteo Data from Meteo_data.csv\n",
    "\n",
    "#    COLUMNS                    UNIT          DESCRIPTION\n",
    "\n",
    "#    Date                                      Date\n",
    "#    Snow_fall                   cm            Snow fall sum of the day\n",
    "#    Snow_fall_1                 cm            Snow fall sum of the last day\n",
    "#    Snow10To25                  True/false    Snow_fall_3 between 10cm and 25cm\n",
    "#    SnowAbove25                 True/false    Snow_fall_3 above 25cm\n",
    "#    Temp_min_1                  degree C      Minimum of temperature of the last day\n",
    "#    TempBelow7_5                True/false    Temp_min_1 below -7.5 degree\n",
    "#    Wind_max_3                  km/h          Maximum of the mean wind of the last 3 days\n",
    "#    WindAbove40                 True/false    Wind_max_3 above 40km/h\n",
    "#    NewSnowProblem              1 or 0        New Snow Prolem condition = 1, other snow conditions = 0\n",
    "#    Temp                        degree C      Air temperature (mean of the day)\n",
    "#    Temp_mean_1                 degree C      Mean temperature of the last day\n",
    "#    Temp_min                    degree C      Minimum of temperature of the day\n",
    "#    Temp_min_3                  degree C      Minmean temperature of the last 3 days\n",
    "#    Temp_max                    degree C      Maximum of temperature of the day\n",
    "#    Wind                        km/h          Wind speed (mean of the day)\n",
    "#    Wind_mean_1                 km/h          Mean wind of the last day\n",
    "#    Wind_max                    km/h          Maximum wind of the day\n",
    "#    Wind_max_1                  km/h          Maximum wind of the last day\n",
    "#    Snow_height                 cm            Snow height measured at 08h00\n",
    "#    RH                          [0-1}         relative humidity\n",
    "#    ISWR                        W/m^2         incoming short wave radiation \n",
    "#    OSWR                        W/m^2         reflected short wave radiation\n",
    "#    ILWR                        W/m^2         incoming long wave radiation\n",
    "#    OLWR                        W/m^2         outgoing long wave radiation\n",
    "#    TSS                         degree C      Snow surface temperature\n",
    "df_meteo = pd.read_csv('../Processed_DataSets/Meteo.csv')\n",
    "df_meteo['Date'] = pd.to_datetime(df_meteo['Date'])\n",
    "df_meteo = df_meteo.set_index('Date')"
   ]
  },
  {
   "cell_type": "markdown",
   "metadata": {},
   "source": [
    "**Combine the Avalanche data with the Meteorological data**"
   ]
  },
  {
   "cell_type": "code",
   "execution_count": 10,
   "metadata": {},
   "outputs": [],
   "source": [
    "# Merge the df_dry dataframe with the meteo df dataframe\n",
    "df_dry = pd.merge(df_meteo, df_dry, how='inner', left_index=True, right_index=True)"
   ]
  },
  {
   "cell_type": "code",
   "execution_count": 11,
   "metadata": {},
   "outputs": [
    {
     "data": {
      "text/html": [
       "<div>\n",
       "<style scoped>\n",
       "    .dataframe tbody tr th:only-of-type {\n",
       "        vertical-align: middle;\n",
       "    }\n",
       "\n",
       "    .dataframe tbody tr th {\n",
       "        vertical-align: top;\n",
       "    }\n",
       "\n",
       "    .dataframe thead th {\n",
       "        text-align: right;\n",
       "    }\n",
       "</style>\n",
       "<table border=\"1\" class=\"dataframe\">\n",
       "  <thead>\n",
       "    <tr style=\"text-align: right;\">\n",
       "      <th></th>\n",
       "      <th>Date</th>\n",
       "      <th>Snow_fall</th>\n",
       "      <th>Snow_fall_1</th>\n",
       "      <th>Snow10To25</th>\n",
       "      <th>SnowAbove25</th>\n",
       "      <th>Temp_min_1</th>\n",
       "      <th>TempBelow-7_5</th>\n",
       "      <th>Wind_max_3</th>\n",
       "      <th>WindAbove40</th>\n",
       "      <th>CriticalFreshSnow</th>\n",
       "      <th>...</th>\n",
       "      <th>Wind_max</th>\n",
       "      <th>Wind_max_1</th>\n",
       "      <th>Snow_height</th>\n",
       "      <th>RH</th>\n",
       "      <th>ISWR</th>\n",
       "      <th>OSWR</th>\n",
       "      <th>ILWR</th>\n",
       "      <th>OLWR</th>\n",
       "      <th>TSS</th>\n",
       "      <th>Snow_fall_3</th>\n",
       "    </tr>\n",
       "  </thead>\n",
       "  <tbody>\n",
       "    <tr>\n",
       "      <th>6348</th>\n",
       "      <td>2017-03-02</td>\n",
       "      <td>0</td>\n",
       "      <td>0</td>\n",
       "      <td>False</td>\n",
       "      <td>False</td>\n",
       "      <td>-12.00</td>\n",
       "      <td>True</td>\n",
       "      <td>31.32</td>\n",
       "      <td>False</td>\n",
       "      <td>0</td>\n",
       "      <td>...</td>\n",
       "      <td>17.64</td>\n",
       "      <td>19.80</td>\n",
       "      <td>145.00</td>\n",
       "      <td>0.86</td>\n",
       "      <td>117.94</td>\n",
       "      <td>105.98</td>\n",
       "      <td>249.55</td>\n",
       "      <td>280.51</td>\n",
       "      <td>-8.40</td>\n",
       "      <td>29</td>\n",
       "    </tr>\n",
       "    <tr>\n",
       "      <th>6349</th>\n",
       "      <td>2017-03-03</td>\n",
       "      <td>0</td>\n",
       "      <td>0</td>\n",
       "      <td>False</td>\n",
       "      <td>False</td>\n",
       "      <td>-7.80</td>\n",
       "      <td>True</td>\n",
       "      <td>23.04</td>\n",
       "      <td>False</td>\n",
       "      <td>0</td>\n",
       "      <td>...</td>\n",
       "      <td>26.64</td>\n",
       "      <td>17.64</td>\n",
       "      <td>144.00</td>\n",
       "      <td>0.61</td>\n",
       "      <td>135.92</td>\n",
       "      <td>115.62</td>\n",
       "      <td>237.92</td>\n",
       "      <td>280.29</td>\n",
       "      <td>-8.59</td>\n",
       "      <td>29</td>\n",
       "    </tr>\n",
       "    <tr>\n",
       "      <th>6350</th>\n",
       "      <td>2017-03-04</td>\n",
       "      <td>10</td>\n",
       "      <td>0</td>\n",
       "      <td>False</td>\n",
       "      <td>False</td>\n",
       "      <td>-8.40</td>\n",
       "      <td>True</td>\n",
       "      <td>26.64</td>\n",
       "      <td>False</td>\n",
       "      <td>0</td>\n",
       "      <td>...</td>\n",
       "      <td>29.88</td>\n",
       "      <td>26.64</td>\n",
       "      <td>139.00</td>\n",
       "      <td>0.86</td>\n",
       "      <td>135.27</td>\n",
       "      <td>115.22</td>\n",
       "      <td>237.95</td>\n",
       "      <td>287.82</td>\n",
       "      <td>-6.77</td>\n",
       "      <td>0</td>\n",
       "    </tr>\n",
       "    <tr>\n",
       "      <th>6351</th>\n",
       "      <td>2017-03-05</td>\n",
       "      <td>11</td>\n",
       "      <td>10</td>\n",
       "      <td>True</td>\n",
       "      <td>False</td>\n",
       "      <td>-7.10</td>\n",
       "      <td>False</td>\n",
       "      <td>29.88</td>\n",
       "      <td>False</td>\n",
       "      <td>0</td>\n",
       "      <td>...</td>\n",
       "      <td>17.64</td>\n",
       "      <td>29.88</td>\n",
       "      <td>149.00</td>\n",
       "      <td>0.95</td>\n",
       "      <td>148.16</td>\n",
       "      <td>130.31</td>\n",
       "      <td>258.41</td>\n",
       "      <td>278.69</td>\n",
       "      <td>-8.72</td>\n",
       "      <td>10</td>\n",
       "    </tr>\n",
       "    <tr>\n",
       "      <th>6352</th>\n",
       "      <td>2017-03-06</td>\n",
       "      <td>15</td>\n",
       "      <td>11</td>\n",
       "      <td>True</td>\n",
       "      <td>False</td>\n",
       "      <td>-8.40</td>\n",
       "      <td>True</td>\n",
       "      <td>29.88</td>\n",
       "      <td>False</td>\n",
       "      <td>1</td>\n",
       "      <td>...</td>\n",
       "      <td>19.44</td>\n",
       "      <td>17.64</td>\n",
       "      <td>160.00</td>\n",
       "      <td>0.93</td>\n",
       "      <td>137.65</td>\n",
       "      <td>120.69</td>\n",
       "      <td>260.73</td>\n",
       "      <td>277.81</td>\n",
       "      <td>-8.96</td>\n",
       "      <td>21</td>\n",
       "    </tr>\n",
       "    <tr>\n",
       "      <th>6353</th>\n",
       "      <td>2017-03-07</td>\n",
       "      <td>0</td>\n",
       "      <td>15</td>\n",
       "      <td>True</td>\n",
       "      <td>False</td>\n",
       "      <td>-10.20</td>\n",
       "      <td>True</td>\n",
       "      <td>29.88</td>\n",
       "      <td>False</td>\n",
       "      <td>1</td>\n",
       "      <td>...</td>\n",
       "      <td>26.64</td>\n",
       "      <td>19.44</td>\n",
       "      <td>175.00</td>\n",
       "      <td>0.99</td>\n",
       "      <td>173.03</td>\n",
       "      <td>157.07</td>\n",
       "      <td>265.50</td>\n",
       "      <td>272.94</td>\n",
       "      <td>-10.01</td>\n",
       "      <td>36</td>\n",
       "    </tr>\n",
       "  </tbody>\n",
       "</table>\n",
       "<p>6 rows × 27 columns</p>\n",
       "</div>"
      ],
      "text/plain": [
       "           Date  Snow_fall  Snow_fall_1  Snow10To25  SnowAbove25  Temp_min_1  \\\n",
       "6348 2017-03-02          0            0       False        False      -12.00   \n",
       "6349 2017-03-03          0            0       False        False       -7.80   \n",
       "6350 2017-03-04         10            0       False        False       -8.40   \n",
       "6351 2017-03-05         11           10        True        False       -7.10   \n",
       "6352 2017-03-06         15           11        True        False       -8.40   \n",
       "6353 2017-03-07          0           15        True        False      -10.20   \n",
       "\n",
       "      TempBelow-7_5  Wind_max_3  WindAbove40  CriticalFreshSnow  ...  \\\n",
       "6348           True       31.32        False                  0  ...   \n",
       "6349           True       23.04        False                  0  ...   \n",
       "6350           True       26.64        False                  0  ...   \n",
       "6351          False       29.88        False                  0  ...   \n",
       "6352           True       29.88        False                  1  ...   \n",
       "6353           True       29.88        False                  1  ...   \n",
       "\n",
       "      Wind_max  Wind_max_1  Snow_height   RH   ISWR   OSWR   ILWR   OLWR  \\\n",
       "6348     17.64       19.80       145.00 0.86 117.94 105.98 249.55 280.51   \n",
       "6349     26.64       17.64       144.00 0.61 135.92 115.62 237.92 280.29   \n",
       "6350     29.88       26.64       139.00 0.86 135.27 115.22 237.95 287.82   \n",
       "6351     17.64       29.88       149.00 0.95 148.16 130.31 258.41 278.69   \n",
       "6352     19.44       17.64       160.00 0.93 137.65 120.69 260.73 277.81   \n",
       "6353     26.64       19.44       175.00 0.99 173.03 157.07 265.50 272.94   \n",
       "\n",
       "        TSS  Snow_fall_3  \n",
       "6348  -8.40           29  \n",
       "6349  -8.59           29  \n",
       "6350  -6.77            0  \n",
       "6351  -8.72           10  \n",
       "6352  -8.96           21  \n",
       "6353 -10.01           36  \n",
       "\n",
       "[6 rows x 27 columns]"
      ]
     },
     "execution_count": 11,
     "metadata": {},
     "output_type": "execute_result"
    }
   ],
   "source": [
    "# Print df_meteo between 2 dates, as example of the data\n",
    "Print_df = df_meteo.reset_index()\n",
    "start_date = \"2017-03-02\"\n",
    "end_date = \"2017-03-07\"\n",
    "after_start_date = Print_df['Date'] >= start_date\n",
    "before_end_date = Print_df['Date'] <= end_date\n",
    "between_two_dates = after_start_date & before_end_date\n",
    "Print_df.loc[between_two_dates]"
   ]
  },
  {
   "cell_type": "markdown",
   "metadata": {},
   "source": [
    "In the processed meteo dataset (Module 1 Project), I have added the different columns to create the binary variable **\"Critical Fresh Snow\" = CFS**, refer to conceptual report form more information\n",
    "\n",
    "<img src=\"../Printscreen/Critical_Fresh_Snow.jpg\" alt=\"Drawing\" style=\"width: 1000px;\"/>"
   ]
  },
  {
   "cell_type": "markdown",
   "metadata": {},
   "source": [
    "**Create now 2 separate dataframe**\n",
    "\n",
    "\n",
    "- **\"df_CSF\"** contains all the days when the **\"Critical Fresh Snow\" condition is true (=1)**\n",
    "\n",
    "\n",
    "- **\"df_Not_CSF\"** contains all the other days, when the **\"Critical Fresh Snow\" is false (=0)**"
   ]
  },
  {
   "cell_type": "code",
   "execution_count": 12,
   "metadata": {},
   "outputs": [],
   "source": [
    "df_CSF = df_dry[df_dry['CriticalFreshSnow']>0].copy()\n",
    "df_Not_CSF = df_dry[df_dry['CriticalFreshSnow']<1].copy()"
   ]
  },
  {
   "cell_type": "markdown",
   "metadata": {},
   "source": [
    "**Number of recorded avalanches: Describe the two distributions**"
   ]
  },
  {
   "cell_type": "code",
   "execution_count": 13,
   "metadata": {
    "scrolled": true
   },
   "outputs": [
    {
     "data": {
      "text/html": [
       "<div>\n",
       "<style scoped>\n",
       "    .dataframe tbody tr th:only-of-type {\n",
       "        vertical-align: middle;\n",
       "    }\n",
       "\n",
       "    .dataframe tbody tr th {\n",
       "        vertical-align: top;\n",
       "    }\n",
       "\n",
       "    .dataframe thead th {\n",
       "        text-align: right;\n",
       "    }\n",
       "</style>\n",
       "<table border=\"1\" class=\"dataframe\">\n",
       "  <thead>\n",
       "    <tr style=\"text-align: right;\">\n",
       "      <th></th>\n",
       "      <th>Num_Tot</th>\n",
       "    </tr>\n",
       "  </thead>\n",
       "  <tbody>\n",
       "    <tr>\n",
       "      <th>count</th>\n",
       "      <td>133.00</td>\n",
       "    </tr>\n",
       "    <tr>\n",
       "      <th>mean</th>\n",
       "      <td>14.76</td>\n",
       "    </tr>\n",
       "    <tr>\n",
       "      <th>std</th>\n",
       "      <td>31.26</td>\n",
       "    </tr>\n",
       "    <tr>\n",
       "      <th>min</th>\n",
       "      <td>1.00</td>\n",
       "    </tr>\n",
       "    <tr>\n",
       "      <th>25%</th>\n",
       "      <td>2.00</td>\n",
       "    </tr>\n",
       "    <tr>\n",
       "      <th>50%</th>\n",
       "      <td>6.00</td>\n",
       "    </tr>\n",
       "    <tr>\n",
       "      <th>75%</th>\n",
       "      <td>12.00</td>\n",
       "    </tr>\n",
       "    <tr>\n",
       "      <th>max</th>\n",
       "      <td>240.00</td>\n",
       "    </tr>\n",
       "  </tbody>\n",
       "</table>\n",
       "</div>"
      ],
      "text/plain": [
       "       Num_Tot\n",
       "count   133.00\n",
       "mean     14.76\n",
       "std      31.26\n",
       "min       1.00\n",
       "25%       2.00\n",
       "50%       6.00\n",
       "75%      12.00\n",
       "max     240.00"
      ]
     },
     "execution_count": 13,
     "metadata": {},
     "output_type": "execute_result"
    }
   ],
   "source": [
    "# Critical Snow Condition = 1\n",
    "df_CSF[['Num_Tot']].describe()"
   ]
  },
  {
   "cell_type": "code",
   "execution_count": 14,
   "metadata": {
    "scrolled": true
   },
   "outputs": [
    {
     "data": {
      "text/html": [
       "<div>\n",
       "<style scoped>\n",
       "    .dataframe tbody tr th:only-of-type {\n",
       "        vertical-align: middle;\n",
       "    }\n",
       "\n",
       "    .dataframe tbody tr th {\n",
       "        vertical-align: top;\n",
       "    }\n",
       "\n",
       "    .dataframe thead th {\n",
       "        text-align: right;\n",
       "    }\n",
       "</style>\n",
       "<table border=\"1\" class=\"dataframe\">\n",
       "  <thead>\n",
       "    <tr style=\"text-align: right;\">\n",
       "      <th></th>\n",
       "      <th>Num_Tot</th>\n",
       "    </tr>\n",
       "  </thead>\n",
       "  <tbody>\n",
       "    <tr>\n",
       "      <th>count</th>\n",
       "      <td>566.00</td>\n",
       "    </tr>\n",
       "    <tr>\n",
       "      <th>mean</th>\n",
       "      <td>4.98</td>\n",
       "    </tr>\n",
       "    <tr>\n",
       "      <th>std</th>\n",
       "      <td>8.76</td>\n",
       "    </tr>\n",
       "    <tr>\n",
       "      <th>min</th>\n",
       "      <td>1.00</td>\n",
       "    </tr>\n",
       "    <tr>\n",
       "      <th>25%</th>\n",
       "      <td>1.00</td>\n",
       "    </tr>\n",
       "    <tr>\n",
       "      <th>50%</th>\n",
       "      <td>2.00</td>\n",
       "    </tr>\n",
       "    <tr>\n",
       "      <th>75%</th>\n",
       "      <td>5.00</td>\n",
       "    </tr>\n",
       "    <tr>\n",
       "      <th>max</th>\n",
       "      <td>84.00</td>\n",
       "    </tr>\n",
       "  </tbody>\n",
       "</table>\n",
       "</div>"
      ],
      "text/plain": [
       "       Num_Tot\n",
       "count   566.00\n",
       "mean      4.98\n",
       "std       8.76\n",
       "min       1.00\n",
       "25%       1.00\n",
       "50%       2.00\n",
       "75%       5.00\n",
       "max      84.00"
      ]
     },
     "execution_count": 14,
     "metadata": {},
     "output_type": "execute_result"
    }
   ],
   "source": [
    "# Critical Snow Condition = 0\n",
    "df_Not_CSF[['Num_Tot']].describe()"
   ]
  },
  {
   "cell_type": "markdown",
   "metadata": {},
   "source": [
    "**Plot the box plot and the histogram of the number of recorded dry avalanche per day for CSF=0 et CSF=1**"
   ]
  },
  {
   "cell_type": "code",
   "execution_count": 15,
   "metadata": {
    "scrolled": true
   },
   "outputs": [
    {
     "data": {
      "image/png": "[encoded data removed]",
      "text/plain": [
       "<Figure size 864x288 with 1 Axes>"
      ]
     },
     "metadata": {
      "needs_background": "light"
     },
     "output_type": "display_data"
    }
   ],
   "source": [
    "fig, ax2 = plt.subplots(figsize=(12, 4))\n",
    "\n",
    "ax2.hist(df_CSF.Num_Tot, color = 'cornflowerblue',\n",
    "         fill=True, histtype='step', bins=241, label='Critical Fresh Snow = 1', align = 'left', density = True,\n",
    "         stacked=True, alpha=0.7)\n",
    "ax2.hist(df_Not_CSF.Num_Tot,  color = 'dimgrey',\n",
    "         fill=True, histtype='step',bins=84, label='Critical Fresh Snow = 0', align = 'left', density = True,\n",
    "         stacked=True, alpha=0.7)\n",
    "# Add some legend/Title\n",
    "ax2.set_xlabel('Number of avalanches per day',fontdict=Legend_size)\n",
    "#Formatting the plot\n",
    "ax2.set_xlim(left = 0, right = 28)\n",
    "ax2.legend(fontsize = '12')\n",
    "#Saving the plot in an external file\n",
    "plt.savefig('../Plots/New_Snow_Problem_Histogram.png')\n",
    "plt.show()"
   ]
  },
  {
   "cell_type": "code",
   "execution_count": 16,
   "metadata": {
    "scrolled": true
   },
   "outputs": [
    {
     "data": {
      "text/plain": [
       "0.25    2.00\n",
       "0.50    6.00\n",
       "0.75   12.00\n",
       "0.90   30.80\n",
       "Name: Num_Tot, dtype: float64"
      ]
     },
     "execution_count": 16,
     "metadata": {},
     "output_type": "execute_result"
    }
   ],
   "source": [
    "# print some quantile information for CSF = 1\n",
    "quantile = df_CSF.Num_Tot.quantile([0.25, 0.50, 0.75, 0.9])\n",
    "quantile"
   ]
  },
  {
   "cell_type": "code",
   "execution_count": 17,
   "metadata": {},
   "outputs": [
    {
     "data": {
      "text/plain": [
       "0.25    1.00\n",
       "0.50    2.00\n",
       "0.75    5.00\n",
       "0.90   10.50\n",
       "Name: Num_Tot, dtype: float64"
      ]
     },
     "execution_count": 17,
     "metadata": {},
     "output_type": "execute_result"
    }
   ],
   "source": [
    "# print some quantile information for CSF = 0\n",
    "quantile = df_Not_CSF.Num_Tot.quantile([0.25, 0.50, 0.75, 0.9])\n",
    "quantile"
   ]
  },
  {
   "cell_type": "code",
   "execution_count": 18,
   "metadata": {
    "scrolled": true
   },
   "outputs": [
    {
     "data": {
      "image/png": "[encoded data removed]",
      "text/plain": [
       "<Figure size 720x432 with 2 Axes>"
      ]
     },
     "metadata": {
      "needs_background": "light"
     },
     "output_type": "display_data"
    }
   ],
   "source": [
    "# Define the label, the color and some format to display the mean in the boxplot\n",
    "labels = ['CSF=0','CSF=1']\n",
    "colors = ['darkgrey','cornflowerblue']\n",
    "meanpointprops = {\"marker\":\"s\",\"markerfacecolor\":\"white\", \"markeredgecolor\":\"green\", \"markersize\":'8'}\n",
    "\n",
    "fig, [axA, axB] = plt.subplots(2, 1, figsize=(10, 6))\n",
    "\n",
    "# Create box plot 1\n",
    "bplot1 = axA.boxplot([df_Not_CSF.Num_Tot, df_CSF.Num_Tot],# rectangular box plot\n",
    "                     showfliers=True, vert=False, patch_artist=True,  labels=labels ,widths = 0.75)\n",
    "for patch, color in zip(bplot1['boxes'], colors):# fill with colors\n",
    "    patch.set_facecolor(color)\n",
    "# Add some legend/Title\n",
    "axA.xaxis.grid(True)# adding horizontal grid lines\n",
    "axA.set_xlabel('Number of avalanches per day',fontdict=Legend_size)\n",
    "axA.set_xticks(np.arange(0, 280, 20.0))\n",
    "axA.set_xlim(left = 0, right = 280)\n",
    "\n",
    "# Create box plot 2\n",
    "bplot2 = axB.boxplot([df_Not_CSF.Num_Tot, df_CSF.Num_Tot], # rectangular box plot\n",
    "                     notch = True, showmeans=True, showfliers=True, vert=False, patch_artist=True,\n",
    "                     labels=labels, widths = 0.75, meanprops=meanpointprops)\n",
    "for patch, color in zip(bplot2['boxes'], colors):# fill with colors\n",
    "    patch.set_facecolor(color)\n",
    "# Add some legend/Title\n",
    "axB.xaxis.grid(True)# adding horizontal grid lines\n",
    "axB.set_xlabel('Number of avalanches per day',fontdict=Legend_size)\n",
    "axB.set_xticks(np.arange(0, 28, 2.0))\n",
    "axB.set_xlim(left = 0, right = 28)\n",
    "\n",
    "#Formatting the plot\n",
    "fig.tight_layout(pad=3.0)\n",
    "\n",
    "#Saving the plot in an external file\n",
    "plt.savefig('../Plots/New_Snow_Problem_Boxplot.png')\n",
    "plt.show()"
   ]
  },
  {
   "cell_type": "markdown",
   "metadata": {},
   "source": [
    "- Very high number of avalanches possible, maximum number of avalanche per day = 240\n",
    "\n",
    "\n",
    "- Median of the 2 distributions are different\n",
    "    - Median = 6 for Critical Fresh Snow = 1\n",
    "    - Median = 2 for Critical Fresh Snow = 0\n",
    "    - **No overlap of the notches: The 2 medians are not the same (with 95% CI)**\n",
    "\n",
    "\n",
    "- Critical Fresh Snow = 0\n",
    "    - 25% of the time: more than 5 avalanches per day\n",
    "    - In some cases: up to about 80 avalanches per day\n",
    "    - **No avalanche danger in this case?**\n",
    "    - Are other parameters than snow fall, wind and temperature influencing the number of avalanches per day?\n",
    "\n",
    "\n",
    "  ==> Unfavorable snow surface before the snow fall could have an influence: \n",
    "\n",
    "<img src=\"../Printscreen/UnfavorableSnowSurface.jpg\" alt=\"Drawing\" style=\"width: 300px;\"/>\n",
    "\n",
    "\n",
    "- **Conclusion:**\n",
    "\n",
    "**Not only Wind, Snow Fall, Temperature have an influence on number of recorded avalanches per day, but also other parameter like snow surface condition before the new snow fall**\n",
    "\n",
    "Let see now if there is some filtering possibiliies of the avalanche danger levels with the help of the wind-temp-snow fall parameters from the meteorological dataset\n"
   ]
  },
  {
   "cell_type": "markdown",
   "metadata": {},
   "source": [
    "## Check the possibility to use the meterological parameters for prediction of the avalanche danger levels (to prepare Project Module 3)"
   ]
  },
  {
   "cell_type": "code",
   "execution_count": 19,
   "metadata": {},
   "outputs": [],
   "source": [
    "df_dry = df_dry.reset_index().set_index('Avalanche_danger_level')"
   ]
  },
  {
   "cell_type": "markdown",
   "metadata": {},
   "source": [
    "**Plot some distributions to check for filtering possibilities of the avalanches danger levels**"
   ]
  },
  {
   "cell_type": "code",
   "execution_count": 20,
   "metadata": {
    "scrolled": true
   },
   "outputs": [],
   "source": [
    "# define general variables for the next plots\n",
    "d2, Label2, Color2 = 2, 'Avalanche danger level 2', 'khaki'\n",
    "d3, Label3, Color3 = 3, 'Avalanche danger level 3', 'coral'\n",
    "d4, Label4, Color4 = 4, 'Avalanche danger level 4', 'crimson'\n",
    "\n",
    "Var1, Text1, Legend1 = 'Snow_fall_1', 'Snow fall of the last day', 'Snow Fall [cm]'\n",
    "Var2, Text2, Legend2 = 'Wind_max_3', 'Max wind of the last 3 days', 'Wind [km/h]'\n",
    "Var3, Text3, Legend3 = 'Temp_min_1', 'Min temperature of the last day', 'Temp [degree C]'"
   ]
  },
  {
   "cell_type": "markdown",
   "metadata": {},
   "source": [
    "**Snow Fall Distributions**"
   ]
  },
  {
   "cell_type": "code",
   "execution_count": 21,
   "metadata": {
    "scrolled": false
   },
   "outputs": [
    {
     "data": {
      "image/png": "[encoded data removed]",
      "text/plain": [
       "<Figure size 432x288 with 1 Axes>"
      ]
     },
     "metadata": {
      "needs_background": "light"
     },
     "output_type": "display_data"
    }
   ],
   "source": [
    "# Plot the Snow fall of the last day for Avalanche danger level 2 and Avalanche danger level 4\n",
    "fig3, ax3 = plt.subplots(figsize=(6, 4))\n",
    "ax3.hist(df_dry.xs(d2)[Var1], color = Color2,\n",
    "         fill=True, histtype='step', label=Label2, align = 'left', density = True, stacked=True, bins=4)\n",
    "ax3.hist(df_dry.xs(d4)[Var1],  color = Color4,\n",
    "         fill=True, histtype='step', label=Label4, align = 'left', density = True, stacked=True, bins=10, alpha=0.4)\n",
    "ax3.set_title(Text1, fontdict=Title_size, pad = 15)\n",
    "ax3.set_xlabel(Legend1,fontdict=Legend_size)\n",
    "ax3.legend(fontsize = '12')\n",
    "ax3.set_xlim(right=50)\n",
    "plt.savefig('../Plots/Snow_Last_day-2and4.png')\n",
    "plt.show()"
   ]
  },
  {
   "cell_type": "code",
   "execution_count": 22,
   "metadata": {
    "scrolled": true
   },
   "outputs": [
    {
     "name": "stdout",
     "output_type": "stream",
     "text": [
      "Snow fall of the last day / distribution for Avalannche degree 2\n",
      "count   207.00\n",
      "mean      2.33\n",
      "std       4.76\n",
      "min       0.00\n",
      "25%       0.00\n",
      "50%       0.00\n",
      "75%       2.00\n",
      "max      21.00\n",
      "Name: Snow_fall_1, dtype: float64\n",
      "\n",
      "Snow fall of the last day / distribution for Avalannche degree 4\n",
      "count   48.00\n",
      "mean    13.42\n",
      "std     13.68\n",
      "min      0.00\n",
      "25%      0.75\n",
      "50%      9.00\n",
      "75%     22.25\n",
      "max     51.00\n",
      "Name: Snow_fall_1, dtype: float64\n"
     ]
    }
   ],
   "source": [
    "print(str(Text1) + ' / distribution for Avalannche degree '+str(d2))\n",
    "print(df_dry.xs(d2)[Var1].describe())\n",
    "print('')\n",
    "print(str(Text1) + ' / distribution for Avalannche degree '+str(d4))\n",
    "print(df_dry.xs(d4)[Var1].describe())"
   ]
  },
  {
   "cell_type": "markdown",
   "metadata": {},
   "source": [
    "The mean values are quite different, and the two distribution as well.\n",
    "\n",
    "Let's look if the 2 distributions differs from each other"
   ]
  },
  {
   "cell_type": "code",
   "execution_count": 23,
   "metadata": {},
   "outputs": [
    {
     "name": "stdout",
     "output_type": "stream",
     "text": [
      "Mann Whitney U Test\n",
      "Statistics=2158.500\n",
      "p-value = 2e-12\n",
      "The 2 distributions look the same (reject H0)\n"
     ]
    }
   ],
   "source": [
    "# Test if the 2 distributions differ from each other \n",
    "statistic, p_value_Mann = stats.mannwhitneyu(df_dry.xs(d2)[Var1], df_dry.xs(d4)[Var1])\n",
    "print('Mann Whitney U Test')\n",
    "print('Statistics=%.3f' % (statistic))\n",
    "print('p-value = ' + p_value_Mann.round(12).astype(str) )\n",
    "# interpret\n",
    "alpha = 0.01\n",
    "if p_value_Mann > alpha:\n",
    "\tprint('The 2 distributions differs with statistical significance')\n",
    "else:\n",
    "\tprint('The 2 distributions look the same (reject H0)')"
   ]
  },
  {
   "cell_type": "markdown",
   "metadata": {},
   "source": [
    "**Max Wind Distributions**"
   ]
  },
  {
   "cell_type": "code",
   "execution_count": 24,
   "metadata": {
    "scrolled": true
   },
   "outputs": [
    {
     "data": {
      "image/png": "[encoded data removed]",
      "text/plain": [
       "<Figure size 432x288 with 1 Axes>"
      ]
     },
     "metadata": {
      "needs_background": "light"
     },
     "output_type": "display_data"
    }
   ],
   "source": [
    "# Plot the Max wind of the last 3 days for Avalanche danger level 2 and Avalanche danger level 4\n",
    "fig5, ax5 = plt.subplots(figsize=(6, 4))\n",
    "ax5.hist(df_dry.xs(d2)[Var2], color = Color2,\n",
    "         fill=True, histtype='step', label=Label2, align = 'left', density = True, stacked=True)\n",
    "ax5.hist(df_dry.xs(d4)[Var2],  color = Color4,\n",
    "         fill=True, histtype='step', label=Label4, align = 'left', density = True, stacked=True, alpha=0.4)\n",
    "ax5.set_title(Text2, fontdict=Title_size, pad = 15)\n",
    "ax5.set_xlabel(Legend2,fontdict=Legend_size)\n",
    "ax5.legend(fontsize = '12')\n",
    "ax5.set_xlim(left=5, right=50)\n",
    "plt.savefig('../Plots/Wind_Last_3_days-2and4.png')\n",
    "plt.show()"
   ]
  },
  {
   "cell_type": "code",
   "execution_count": 25,
   "metadata": {
    "scrolled": true
   },
   "outputs": [
    {
     "data": {
      "image/png": "[encoded data removed]",
      "text/plain": [
       "<Figure size 432x288 with 1 Axes>"
      ]
     },
     "metadata": {
      "needs_background": "light"
     },
     "output_type": "display_data"
    }
   ],
   "source": [
    "# Plot the Max wind of the last 3 days for Avalanche danger level 2 and Avalanche danger level 3\n",
    "fig6, ax6 = plt.subplots(figsize=(6, 4))\n",
    "ax6.hist(df_dry.xs(d2)[Var2], color = Color2,\n",
    "         fill=True, histtype='step', label=Label2, align = 'left', density = True, stacked=True)\n",
    "ax6.hist(df_dry.xs(d3)[Var2],  color = Color3,\n",
    "         fill=True, histtype='step', label=Label3, align = 'left', density = True, stacked=True, alpha=0.4)\n",
    "ax6.set_title(Text2, fontdict=Title_size, pad = 15)\n",
    "ax6.set_xlabel(Legend2,fontdict=Legend_size)\n",
    "ax6.legend(fontsize = '12')\n",
    "ax6.set_xlim(right=50)\n",
    "plt.savefig('../Plots/Wind_Last_3_days-2and3.png')\n",
    "plt.show()"
   ]
  },
  {
   "cell_type": "markdown",
   "metadata": {},
   "source": [
    "**Check normality for the Max Wind distributions**"
   ]
  },
  {
   "cell_type": "code",
   "execution_count": 26,
   "metadata": {},
   "outputs": [
    {
     "name": "stdout",
     "output_type": "stream",
     "text": [
      "p-values from the normality tests on the Max Wind Distribution (D Agostino-Pearson):\n",
      "Avalanche danger level 2 = 0.010\n",
      "Avalanche danger level 3 = 0.004\n",
      "Avalanche danger level 4 = 0.743\n"
     ]
    }
   ],
   "source": [
    "print('p-values from the normality tests on the Max Wind Distribution (D Agostino-Pearson):')\n",
    "datasets        = [df_dry.xs(2)[Var2],df_dry.xs(3)[Var2],df_dry.xs(4)[Var2]]\n",
    "dataset_labels = [Label2,Label3,Label4] \n",
    "i = 0\n",
    "for dataset in datasets:\n",
    "  k2, p = stats.normaltest(dataset) # D Agostino-Pearson\n",
    "  print('%10s = %1.3f' % (dataset_labels[i],p))\n",
    "  i+=1"
   ]
  },
  {
   "cell_type": "markdown",
   "metadata": {},
   "source": [
    "**I conclude that the Max Wind distribution is normal in Avalanche danger level 4**"
   ]
  },
  {
   "cell_type": "markdown",
   "metadata": {},
   "source": [
    "**Scatter plot, possible filtering of the 2 avalanche danger level classes**\n",
    "\n",
    "\n",
    "Avalanche danger level 2  | Avalanche danger level 4"
   ]
  },
  {
   "cell_type": "code",
   "execution_count": 27,
   "metadata": {
    "scrolled": false
   },
   "outputs": [
    {
     "data": {
      "text/plain": [
       "[]"
      ]
     },
     "execution_count": 27,
     "metadata": {},
     "output_type": "execute_result"
    },
    {
     "data": {
      "image/png": "[encoded data removed]",
      "text/plain": [
       "<Figure size 432x288 with 1 Axes>"
      ]
     },
     "metadata": {
      "needs_background": "light"
     },
     "output_type": "display_data"
    }
   ],
   "source": [
    "x = 'Wind_max_3'\n",
    "y = 'Snow_fall_1'\n",
    "\n",
    "fig, ax3 = plt.subplots(figsize=(6, 4))\n",
    "ax3.scatter(df_dry.xs(2)[x], df_dry.xs(2)[y],\n",
    "            c = 'khaki', label = Label2, s=15)\n",
    "ax3.scatter(df_dry.xs(4)[x], df_dry.xs(4)[y],\n",
    "            c = 'crimson', label = Label4, s=12)\n",
    "ax3.set_xlabel('Max Wind of the last 3 Days [km/h]',fontdict=Legend_size)\n",
    "ax3.set_ylabel('Snow Fall of the last Day [cm]',fontdict=Legend_size)\n",
    "ax3.legend(fontsize = '12')\n",
    "plt.savefig('../Plots/Scatter_plot_2and4.png')\n",
    "plt.plot()"
   ]
  },
  {
   "cell_type": "markdown",
   "metadata": {},
   "source": [
    "Avalanche danger level 2  | Avalanche danger level 4\n",
    "\n",
    "\n",
    "==> Some separation between the class is visible, but no easy separation like in the case of the IRIS!\n"
   ]
  },
  {
   "cell_type": "code",
   "execution_count": 28,
   "metadata": {
    "scrolled": false
   },
   "outputs": [
    {
     "data": {
      "text/plain": [
       "[]"
      ]
     },
     "execution_count": 28,
     "metadata": {},
     "output_type": "execute_result"
    },
    {
     "data": {
      "image/png": "[encoded data removed]",
      "text/plain": [
       "<Figure size 432x288 with 1 Axes>"
      ]
     },
     "metadata": {
      "needs_background": "light"
     },
     "output_type": "display_data"
    }
   ],
   "source": [
    "x = 'Wind_max_3'\n",
    "y = 'Snow_fall_1'\n",
    "\n",
    "fig, ax3 = plt.subplots(figsize=(6, 4))\n",
    "ax3.scatter(df_dry.xs(2)[x], df_dry.xs(2)[y],\n",
    "            c = 'khaki', label = Label2, s=15)\n",
    "ax3.scatter(df_dry.xs(3)[x], df_dry.xs(3)[y],\n",
    "            c = 'coral', label = Label3, s=12)\n",
    "ax3.set_xlabel('Max Wind of the last 3 Days [km/h]',fontdict=Legend_size)\n",
    "ax3.set_ylabel('Snow Fall of the last Day [cm]',fontdict=Legend_size)\n",
    "ax3.legend(fontsize = '12')\n",
    "plt.savefig('../Plots/Scatter_plot_2and3.png')\n",
    "plt.plot()"
   ]
  },
  {
   "cell_type": "markdown",
   "metadata": {},
   "source": [
    "Avalanche danger level 2  | Avalanche danger level 3\n",
    "\n",
    "\n",
    "==> Some separation between the class is slightly visible\n"
   ]
  },
  {
   "cell_type": "markdown",
   "metadata": {},
   "source": [
    "# 3. Conclusion Module 2"
   ]
  },
  {
   "cell_type": "markdown",
   "metadata": {},
   "source": [
    "**Number of avalanche occurring per day is increasing with the avalanches danger levels**\n",
    "\n",
    "\n",
    "- Consistent with definition of European avalanche danger level\n",
    "\n",
    "\n"
   ]
  },
  {
   "cell_type": "markdown",
   "metadata": {},
   "source": [
    "\n",
    "\n",
    "**Binary Variable - Critical Fresh Snow** (Snow/wind/temperature):\n",
    "\n",
    "\n",
    "- Has an influence on the number of avalanches occurring per day\n",
    "\n",
    "\n"
   ]
  },
  {
   "cell_type": "markdown",
   "metadata": {},
   "source": [
    "**BUT.....**"
   ]
  },
  {
   "cell_type": "markdown",
   "metadata": {},
   "source": [
    "\n",
    "**.............LOCAL parameters play an important role:**\n",
    "- Meteorological parameter\n",
    "- Snow surface condition before a snow fall\n",
    "- Snowpack composition\n",
    "- Topological parameters where the avalanche occurs (Slope steepness, orientation, altitude,…)\n"
   ]
  },
  {
   "cell_type": "markdown",
   "metadata": {},
   "source": [
    "# 4. Prediction of Avalanches Danger Levels - Outlook/Question for Module 3"
   ]
  },
  {
   "cell_type": "markdown",
   "metadata": {},
   "source": [
    "The dataframe planned to be used would have not only snow/wind/temp, but also other meteorological parameter like wind min-max value, relative humidity, incoming radiation, outgoing radiation,..."
   ]
  },
  {
   "cell_type": "markdown",
   "metadata": {},
   "source": [
    "Exemple of the dataframe, without all the variables:"
   ]
  },
  {
   "cell_type": "code",
   "execution_count": 29,
   "metadata": {},
   "outputs": [
    {
     "data": {
      "text/html": [
       "<div>\n",
       "<style scoped>\n",
       "    .dataframe tbody tr th:only-of-type {\n",
       "        vertical-align: middle;\n",
       "    }\n",
       "\n",
       "    .dataframe tbody tr th {\n",
       "        vertical-align: top;\n",
       "    }\n",
       "\n",
       "    .dataframe thead th {\n",
       "        text-align: right;\n",
       "    }\n",
       "</style>\n",
       "<table border=\"1\" class=\"dataframe\">\n",
       "  <thead>\n",
       "    <tr style=\"text-align: right;\">\n",
       "      <th></th>\n",
       "      <th>Snow_fall</th>\n",
       "      <th>Snow_fall_1</th>\n",
       "      <th>Temp</th>\n",
       "      <th>Temp_min</th>\n",
       "      <th>Temp_max</th>\n",
       "      <th>Wind</th>\n",
       "      <th>RH</th>\n",
       "      <th>ISWR</th>\n",
       "      <th>OSWR</th>\n",
       "      <th>ILWR</th>\n",
       "      <th>OLWR</th>\n",
       "      <th>TSS</th>\n",
       "    </tr>\n",
       "    <tr>\n",
       "      <th>Avalanche_danger_level</th>\n",
       "      <th></th>\n",
       "      <th></th>\n",
       "      <th></th>\n",
       "      <th></th>\n",
       "      <th></th>\n",
       "      <th></th>\n",
       "      <th></th>\n",
       "      <th></th>\n",
       "      <th></th>\n",
       "      <th></th>\n",
       "      <th></th>\n",
       "      <th></th>\n",
       "    </tr>\n",
       "  </thead>\n",
       "  <tbody>\n",
       "    <tr>\n",
       "      <th>2</th>\n",
       "      <td>0</td>\n",
       "      <td>0</td>\n",
       "      <td>-1.71</td>\n",
       "      <td>-4.50</td>\n",
       "      <td>0.30</td>\n",
       "      <td>4.71</td>\n",
       "      <td>0.21</td>\n",
       "      <td>98.77</td>\n",
       "      <td>79.66</td>\n",
       "      <td>188.43</td>\n",
       "      <td>249.86</td>\n",
       "      <td>-18.09</td>\n",
       "    </tr>\n",
       "    <tr>\n",
       "      <th>3</th>\n",
       "      <td>0</td>\n",
       "      <td>0</td>\n",
       "      <td>-10.89</td>\n",
       "      <td>-17.40</td>\n",
       "      <td>-6.50</td>\n",
       "      <td>4.38</td>\n",
       "      <td>0.17</td>\n",
       "      <td>84.31</td>\n",
       "      <td>70.68</td>\n",
       "      <td>184.35</td>\n",
       "      <td>229.97</td>\n",
       "      <td>-22.60</td>\n",
       "    </tr>\n",
       "    <tr>\n",
       "      <th>2</th>\n",
       "      <td>0</td>\n",
       "      <td>0</td>\n",
       "      <td>-14.40</td>\n",
       "      <td>-19.40</td>\n",
       "      <td>-9.90</td>\n",
       "      <td>6.00</td>\n",
       "      <td>0.37</td>\n",
       "      <td>85.10</td>\n",
       "      <td>72.14</td>\n",
       "      <td>156.11</td>\n",
       "      <td>219.34</td>\n",
       "      <td>-24.55</td>\n",
       "    </tr>\n",
       "    <tr>\n",
       "      <th>4</th>\n",
       "      <td>6</td>\n",
       "      <td>51</td>\n",
       "      <td>-9.27</td>\n",
       "      <td>-11.70</td>\n",
       "      <td>-5.80</td>\n",
       "      <td>14.25</td>\n",
       "      <td>0.80</td>\n",
       "      <td>43.49</td>\n",
       "      <td>39.96</td>\n",
       "      <td>267.36</td>\n",
       "      <td>275.75</td>\n",
       "      <td>-9.25</td>\n",
       "    </tr>\n",
       "    <tr>\n",
       "      <th>3</th>\n",
       "      <td>31</td>\n",
       "      <td>6</td>\n",
       "      <td>-10.79</td>\n",
       "      <td>-13.50</td>\n",
       "      <td>-7.20</td>\n",
       "      <td>17.74</td>\n",
       "      <td>0.86</td>\n",
       "      <td>33.18</td>\n",
       "      <td>31.18</td>\n",
       "      <td>264.49</td>\n",
       "      <td>270.68</td>\n",
       "      <td>-10.44</td>\n",
       "    </tr>\n",
       "    <tr>\n",
       "      <th>...</th>\n",
       "      <td>...</td>\n",
       "      <td>...</td>\n",
       "      <td>...</td>\n",
       "      <td>...</td>\n",
       "      <td>...</td>\n",
       "      <td>...</td>\n",
       "      <td>...</td>\n",
       "      <td>...</td>\n",
       "      <td>...</td>\n",
       "      <td>...</td>\n",
       "      <td>...</td>\n",
       "      <td>...</td>\n",
       "    </tr>\n",
       "    <tr>\n",
       "      <th>3</th>\n",
       "      <td>0</td>\n",
       "      <td>0</td>\n",
       "      <td>-12.39</td>\n",
       "      <td>-17.10</td>\n",
       "      <td>-6.50</td>\n",
       "      <td>6.79</td>\n",
       "      <td>0.97</td>\n",
       "      <td>327.85</td>\n",
       "      <td>269.33</td>\n",
       "      <td>174.41</td>\n",
       "      <td>245.60</td>\n",
       "      <td>-15.05</td>\n",
       "    </tr>\n",
       "    <tr>\n",
       "      <th>2</th>\n",
       "      <td>0</td>\n",
       "      <td>0</td>\n",
       "      <td>-6.27</td>\n",
       "      <td>-13.80</td>\n",
       "      <td>0.10</td>\n",
       "      <td>5.02</td>\n",
       "      <td>0.53</td>\n",
       "      <td>340.04</td>\n",
       "      <td>276.34</td>\n",
       "      <td>184.16</td>\n",
       "      <td>260.38</td>\n",
       "      <td>-13.41</td>\n",
       "    </tr>\n",
       "    <tr>\n",
       "      <th>2</th>\n",
       "      <td>0</td>\n",
       "      <td>0</td>\n",
       "      <td>-1.77</td>\n",
       "      <td>-5.70</td>\n",
       "      <td>3.40</td>\n",
       "      <td>7.05</td>\n",
       "      <td>0.74</td>\n",
       "      <td>321.14</td>\n",
       "      <td>253.47</td>\n",
       "      <td>225.61</td>\n",
       "      <td>291.29</td>\n",
       "      <td>-5.91</td>\n",
       "    </tr>\n",
       "    <tr>\n",
       "      <th>3</th>\n",
       "      <td>0</td>\n",
       "      <td>5</td>\n",
       "      <td>-4.94</td>\n",
       "      <td>-12.20</td>\n",
       "      <td>3.20</td>\n",
       "      <td>3.79</td>\n",
       "      <td>0.90</td>\n",
       "      <td>369.06</td>\n",
       "      <td>292.46</td>\n",
       "      <td>175.46</td>\n",
       "      <td>265.22</td>\n",
       "      <td>-9.21</td>\n",
       "    </tr>\n",
       "    <tr>\n",
       "      <th>2</th>\n",
       "      <td>0</td>\n",
       "      <td>2</td>\n",
       "      <td>-2.35</td>\n",
       "      <td>-5.60</td>\n",
       "      <td>3.30</td>\n",
       "      <td>5.29</td>\n",
       "      <td>0.91</td>\n",
       "      <td>390.19</td>\n",
       "      <td>307.09</td>\n",
       "      <td>229.11</td>\n",
       "      <td>298.46</td>\n",
       "      <td>-4.08</td>\n",
       "    </tr>\n",
       "  </tbody>\n",
       "</table>\n",
       "<p>699 rows × 12 columns</p>\n",
       "</div>"
      ],
      "text/plain": [
       "                        Snow_fall  Snow_fall_1   Temp  Temp_min  Temp_max  \\\n",
       "Avalanche_danger_level                                                      \n",
       "2                               0            0  -1.71     -4.50      0.30   \n",
       "3                               0            0 -10.89    -17.40     -6.50   \n",
       "2                               0            0 -14.40    -19.40     -9.90   \n",
       "4                               6           51  -9.27    -11.70     -5.80   \n",
       "3                              31            6 -10.79    -13.50     -7.20   \n",
       "...                           ...          ...    ...       ...       ...   \n",
       "3                               0            0 -12.39    -17.10     -6.50   \n",
       "2                               0            0  -6.27    -13.80      0.10   \n",
       "2                               0            0  -1.77     -5.70      3.40   \n",
       "3                               0            5  -4.94    -12.20      3.20   \n",
       "2                               0            2  -2.35     -5.60      3.30   \n",
       "\n",
       "                        Wind   RH   ISWR   OSWR   ILWR   OLWR    TSS  \n",
       "Avalanche_danger_level                                                \n",
       "2                       4.71 0.21  98.77  79.66 188.43 249.86 -18.09  \n",
       "3                       4.38 0.17  84.31  70.68 184.35 229.97 -22.60  \n",
       "2                       6.00 0.37  85.10  72.14 156.11 219.34 -24.55  \n",
       "4                      14.25 0.80  43.49  39.96 267.36 275.75  -9.25  \n",
       "3                      17.74 0.86  33.18  31.18 264.49 270.68 -10.44  \n",
       "...                      ...  ...    ...    ...    ...    ...    ...  \n",
       "3                       6.79 0.97 327.85 269.33 174.41 245.60 -15.05  \n",
       "2                       5.02 0.53 340.04 276.34 184.16 260.38 -13.41  \n",
       "2                       7.05 0.74 321.14 253.47 225.61 291.29  -5.91  \n",
       "3                       3.79 0.90 369.06 292.46 175.46 265.22  -9.21  \n",
       "2                       5.29 0.91 390.19 307.09 229.11 298.46  -4.08  \n",
       "\n",
       "[699 rows x 12 columns]"
      ]
     },
     "execution_count": 29,
     "metadata": {},
     "output_type": "execute_result"
    }
   ],
   "source": [
    "df_dry[['Snow_fall','Snow_fall_1','Temp','Temp_min','Temp_max',\n",
    "        'Wind','RH','ISWR','OSWR','ILWR','OLWR','TSS']]"
   ]
  },
  {
   "cell_type": "markdown",
   "metadata": {},
   "source": [
    "**Main issue:**\n",
    "- Total only 699 rows available for 3 classes (Avalanche danger level 2-3-4)\n",
    "- Only 48 rows Avalanche Danger Level 4\n",
    "\n",
    "\n",
    "**For Module 3 Project: is there enough data to apply machine learning algorithms on it?**\n"
   ]
  }
 ],
 "metadata": {
  "kernelspec": {
   "display_name": "Python 3",
   "language": "python",
   "name": "python3"
  },
  "language_info": {
   "codemirror_mode": {
    "name": "ipython",
    "version": 3
   },
   "file_extension": ".py",
   "mimetype": "text/x-python",
   "name": "python",
   "nbconvert_exporter": "python",
   "pygments_lexer": "ipython3",
   "version": "3.7.6"
  }
 },
 "nbformat": 4,
 "nbformat_minor": 2
}
